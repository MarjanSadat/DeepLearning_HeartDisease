{
 "cells": [
  {
   "cell_type": "code",
   "execution_count": 1,
   "id": "d0b2f2ed-2aef-4a72-ba9c-7bbe58cda4eb",
   "metadata": {},
   "outputs": [],
   "source": [
    "import warnings\n",
    "warnings.filterwarnings(action='ignore')"
   ]
  },
  {
   "cell_type": "code",
   "execution_count": 2,
   "id": "308fdbea-df38-4521-9365-48c6b9d44ace",
   "metadata": {},
   "outputs": [],
   "source": [
    "import pandas as pd"
   ]
  },
  {
   "cell_type": "code",
   "execution_count": 3,
   "id": "10786847-c3a4-424d-9a9f-9e72b4d0eb07",
   "metadata": {},
   "outputs": [],
   "source": [
    "df = pd.read_csv('heart.csv')"
   ]
  },
  {
   "cell_type": "code",
   "execution_count": 4,
   "id": "f46d0551-0896-49d1-a798-5c94b42f8838",
   "metadata": {},
   "outputs": [
    {
     "data": {
      "text/html": [
       "<div>\n",
       "<style scoped>\n",
       "    .dataframe tbody tr th:only-of-type {\n",
       "        vertical-align: middle;\n",
       "    }\n",
       "\n",
       "    .dataframe tbody tr th {\n",
       "        vertical-align: top;\n",
       "    }\n",
       "\n",
       "    .dataframe thead th {\n",
       "        text-align: right;\n",
       "    }\n",
       "</style>\n",
       "<table border=\"1\" class=\"dataframe\">\n",
       "  <thead>\n",
       "    <tr style=\"text-align: right;\">\n",
       "      <th></th>\n",
       "      <th>Age</th>\n",
       "      <th>Sex</th>\n",
       "      <th>ChestPainType</th>\n",
       "      <th>RestingBP</th>\n",
       "      <th>Cholesterol</th>\n",
       "      <th>FastingBS</th>\n",
       "      <th>RestingECG</th>\n",
       "      <th>MaxHR</th>\n",
       "      <th>ExerciseAngina</th>\n",
       "      <th>Oldpeak</th>\n",
       "      <th>ST_Slope</th>\n",
       "      <th>HeartDisease</th>\n",
       "    </tr>\n",
       "  </thead>\n",
       "  <tbody>\n",
       "    <tr>\n",
       "      <th>0</th>\n",
       "      <td>40</td>\n",
       "      <td>M</td>\n",
       "      <td>ATA</td>\n",
       "      <td>140</td>\n",
       "      <td>289</td>\n",
       "      <td>0</td>\n",
       "      <td>Normal</td>\n",
       "      <td>172</td>\n",
       "      <td>N</td>\n",
       "      <td>0.0</td>\n",
       "      <td>Up</td>\n",
       "      <td>0</td>\n",
       "    </tr>\n",
       "    <tr>\n",
       "      <th>1</th>\n",
       "      <td>49</td>\n",
       "      <td>F</td>\n",
       "      <td>NAP</td>\n",
       "      <td>160</td>\n",
       "      <td>180</td>\n",
       "      <td>0</td>\n",
       "      <td>Normal</td>\n",
       "      <td>156</td>\n",
       "      <td>N</td>\n",
       "      <td>1.0</td>\n",
       "      <td>Flat</td>\n",
       "      <td>1</td>\n",
       "    </tr>\n",
       "    <tr>\n",
       "      <th>2</th>\n",
       "      <td>37</td>\n",
       "      <td>M</td>\n",
       "      <td>ATA</td>\n",
       "      <td>130</td>\n",
       "      <td>283</td>\n",
       "      <td>0</td>\n",
       "      <td>ST</td>\n",
       "      <td>98</td>\n",
       "      <td>N</td>\n",
       "      <td>0.0</td>\n",
       "      <td>Up</td>\n",
       "      <td>0</td>\n",
       "    </tr>\n",
       "    <tr>\n",
       "      <th>3</th>\n",
       "      <td>48</td>\n",
       "      <td>F</td>\n",
       "      <td>ASY</td>\n",
       "      <td>138</td>\n",
       "      <td>214</td>\n",
       "      <td>0</td>\n",
       "      <td>Normal</td>\n",
       "      <td>108</td>\n",
       "      <td>Y</td>\n",
       "      <td>1.5</td>\n",
       "      <td>Flat</td>\n",
       "      <td>1</td>\n",
       "    </tr>\n",
       "    <tr>\n",
       "      <th>4</th>\n",
       "      <td>54</td>\n",
       "      <td>M</td>\n",
       "      <td>NAP</td>\n",
       "      <td>150</td>\n",
       "      <td>195</td>\n",
       "      <td>0</td>\n",
       "      <td>Normal</td>\n",
       "      <td>122</td>\n",
       "      <td>N</td>\n",
       "      <td>0.0</td>\n",
       "      <td>Up</td>\n",
       "      <td>0</td>\n",
       "    </tr>\n",
       "  </tbody>\n",
       "</table>\n",
       "</div>"
      ],
      "text/plain": [
       "   Age Sex ChestPainType  RestingBP  Cholesterol  FastingBS RestingECG  MaxHR  \\\n",
       "0   40   M           ATA        140          289          0     Normal    172   \n",
       "1   49   F           NAP        160          180          0     Normal    156   \n",
       "2   37   M           ATA        130          283          0         ST     98   \n",
       "3   48   F           ASY        138          214          0     Normal    108   \n",
       "4   54   M           NAP        150          195          0     Normal    122   \n",
       "\n",
       "  ExerciseAngina  Oldpeak ST_Slope  HeartDisease  \n",
       "0              N      0.0       Up             0  \n",
       "1              N      1.0     Flat             1  \n",
       "2              N      0.0       Up             0  \n",
       "3              Y      1.5     Flat             1  \n",
       "4              N      0.0       Up             0  "
      ]
     },
     "execution_count": 4,
     "metadata": {},
     "output_type": "execute_result"
    }
   ],
   "source": [
    "df.head()"
   ]
  },
  {
   "cell_type": "code",
   "execution_count": 5,
   "id": "b86a3821-b754-4bee-a0ce-9f166c456d75",
   "metadata": {},
   "outputs": [
    {
     "data": {
      "text/plain": [
       "Age               0\n",
       "Sex               0\n",
       "ChestPainType     0\n",
       "RestingBP         0\n",
       "Cholesterol       0\n",
       "FastingBS         0\n",
       "RestingECG        0\n",
       "MaxHR             0\n",
       "ExerciseAngina    0\n",
       "Oldpeak           0\n",
       "ST_Slope          0\n",
       "HeartDisease      0\n",
       "dtype: int64"
      ]
     },
     "execution_count": 5,
     "metadata": {},
     "output_type": "execute_result"
    }
   ],
   "source": [
    "df.isnull().sum()"
   ]
  },
  {
   "cell_type": "code",
   "execution_count": 6,
   "id": "5f32ecd2-fe6c-4083-9cbf-65a868aa67df",
   "metadata": {},
   "outputs": [
    {
     "name": "stdout",
     "output_type": "stream",
     "text": [
      "<class 'pandas.core.frame.DataFrame'>\n",
      "RangeIndex: 918 entries, 0 to 917\n",
      "Data columns (total 12 columns):\n",
      " #   Column          Non-Null Count  Dtype  \n",
      "---  ------          --------------  -----  \n",
      " 0   Age             918 non-null    int64  \n",
      " 1   Sex             918 non-null    object \n",
      " 2   ChestPainType   918 non-null    object \n",
      " 3   RestingBP       918 non-null    int64  \n",
      " 4   Cholesterol     918 non-null    int64  \n",
      " 5   FastingBS       918 non-null    int64  \n",
      " 6   RestingECG      918 non-null    object \n",
      " 7   MaxHR           918 non-null    int64  \n",
      " 8   ExerciseAngina  918 non-null    object \n",
      " 9   Oldpeak         918 non-null    float64\n",
      " 10  ST_Slope        918 non-null    object \n",
      " 11  HeartDisease    918 non-null    int64  \n",
      "dtypes: float64(1), int64(6), object(5)\n",
      "memory usage: 86.2+ KB\n"
     ]
    }
   ],
   "source": [
    "df.info()"
   ]
  },
  {
   "cell_type": "code",
   "execution_count": 7,
   "id": "41a6cec0-29b8-4c3d-b138-9ff6bd1abecb",
   "metadata": {},
   "outputs": [
    {
     "data": {
      "text/plain": [
       "0"
      ]
     },
     "execution_count": 7,
     "metadata": {},
     "output_type": "execute_result"
    }
   ],
   "source": [
    "df.duplicated().sum()"
   ]
  },
  {
   "cell_type": "code",
   "execution_count": 8,
   "id": "03cf662e-6cfe-4000-b5d2-99fdad50d2e9",
   "metadata": {},
   "outputs": [
    {
     "data": {
      "text/html": [
       "<div>\n",
       "<style scoped>\n",
       "    .dataframe tbody tr th:only-of-type {\n",
       "        vertical-align: middle;\n",
       "    }\n",
       "\n",
       "    .dataframe tbody tr th {\n",
       "        vertical-align: top;\n",
       "    }\n",
       "\n",
       "    .dataframe thead th {\n",
       "        text-align: right;\n",
       "    }\n",
       "</style>\n",
       "<table border=\"1\" class=\"dataframe\">\n",
       "  <thead>\n",
       "    <tr style=\"text-align: right;\">\n",
       "      <th></th>\n",
       "      <th>Age</th>\n",
       "      <th>RestingBP</th>\n",
       "      <th>Cholesterol</th>\n",
       "      <th>FastingBS</th>\n",
       "      <th>MaxHR</th>\n",
       "      <th>Oldpeak</th>\n",
       "      <th>HeartDisease</th>\n",
       "    </tr>\n",
       "  </thead>\n",
       "  <tbody>\n",
       "    <tr>\n",
       "      <th>count</th>\n",
       "      <td>918.000000</td>\n",
       "      <td>918.000000</td>\n",
       "      <td>918.000000</td>\n",
       "      <td>918.000000</td>\n",
       "      <td>918.000000</td>\n",
       "      <td>918.000000</td>\n",
       "      <td>918.000000</td>\n",
       "    </tr>\n",
       "    <tr>\n",
       "      <th>mean</th>\n",
       "      <td>53.510893</td>\n",
       "      <td>132.396514</td>\n",
       "      <td>198.799564</td>\n",
       "      <td>0.233115</td>\n",
       "      <td>136.809368</td>\n",
       "      <td>0.887364</td>\n",
       "      <td>0.553377</td>\n",
       "    </tr>\n",
       "    <tr>\n",
       "      <th>std</th>\n",
       "      <td>9.432617</td>\n",
       "      <td>18.514154</td>\n",
       "      <td>109.384145</td>\n",
       "      <td>0.423046</td>\n",
       "      <td>25.460334</td>\n",
       "      <td>1.066570</td>\n",
       "      <td>0.497414</td>\n",
       "    </tr>\n",
       "    <tr>\n",
       "      <th>min</th>\n",
       "      <td>28.000000</td>\n",
       "      <td>0.000000</td>\n",
       "      <td>0.000000</td>\n",
       "      <td>0.000000</td>\n",
       "      <td>60.000000</td>\n",
       "      <td>-2.600000</td>\n",
       "      <td>0.000000</td>\n",
       "    </tr>\n",
       "    <tr>\n",
       "      <th>25%</th>\n",
       "      <td>47.000000</td>\n",
       "      <td>120.000000</td>\n",
       "      <td>173.250000</td>\n",
       "      <td>0.000000</td>\n",
       "      <td>120.000000</td>\n",
       "      <td>0.000000</td>\n",
       "      <td>0.000000</td>\n",
       "    </tr>\n",
       "    <tr>\n",
       "      <th>50%</th>\n",
       "      <td>54.000000</td>\n",
       "      <td>130.000000</td>\n",
       "      <td>223.000000</td>\n",
       "      <td>0.000000</td>\n",
       "      <td>138.000000</td>\n",
       "      <td>0.600000</td>\n",
       "      <td>1.000000</td>\n",
       "    </tr>\n",
       "    <tr>\n",
       "      <th>75%</th>\n",
       "      <td>60.000000</td>\n",
       "      <td>140.000000</td>\n",
       "      <td>267.000000</td>\n",
       "      <td>0.000000</td>\n",
       "      <td>156.000000</td>\n",
       "      <td>1.500000</td>\n",
       "      <td>1.000000</td>\n",
       "    </tr>\n",
       "    <tr>\n",
       "      <th>max</th>\n",
       "      <td>77.000000</td>\n",
       "      <td>200.000000</td>\n",
       "      <td>603.000000</td>\n",
       "      <td>1.000000</td>\n",
       "      <td>202.000000</td>\n",
       "      <td>6.200000</td>\n",
       "      <td>1.000000</td>\n",
       "    </tr>\n",
       "  </tbody>\n",
       "</table>\n",
       "</div>"
      ],
      "text/plain": [
       "              Age   RestingBP  Cholesterol   FastingBS       MaxHR  \\\n",
       "count  918.000000  918.000000   918.000000  918.000000  918.000000   \n",
       "mean    53.510893  132.396514   198.799564    0.233115  136.809368   \n",
       "std      9.432617   18.514154   109.384145    0.423046   25.460334   \n",
       "min     28.000000    0.000000     0.000000    0.000000   60.000000   \n",
       "25%     47.000000  120.000000   173.250000    0.000000  120.000000   \n",
       "50%     54.000000  130.000000   223.000000    0.000000  138.000000   \n",
       "75%     60.000000  140.000000   267.000000    0.000000  156.000000   \n",
       "max     77.000000  200.000000   603.000000    1.000000  202.000000   \n",
       "\n",
       "          Oldpeak  HeartDisease  \n",
       "count  918.000000    918.000000  \n",
       "mean     0.887364      0.553377  \n",
       "std      1.066570      0.497414  \n",
       "min     -2.600000      0.000000  \n",
       "25%      0.000000      0.000000  \n",
       "50%      0.600000      1.000000  \n",
       "75%      1.500000      1.000000  \n",
       "max      6.200000      1.000000  "
      ]
     },
     "execution_count": 8,
     "metadata": {},
     "output_type": "execute_result"
    }
   ],
   "source": [
    "df.describe()"
   ]
  },
  {
   "cell_type": "code",
   "execution_count": 9,
   "id": "6c515b71-6ce6-419d-a1e4-3f46010c1d37",
   "metadata": {},
   "outputs": [
    {
     "data": {
      "text/plain": [
       "(918, 12)"
      ]
     },
     "execution_count": 9,
     "metadata": {},
     "output_type": "execute_result"
    }
   ],
   "source": [
    "df.shape"
   ]
  },
  {
   "cell_type": "code",
   "execution_count": 10,
   "id": "893a3036-93ec-4a0f-aa9b-48eb0e1624fe",
   "metadata": {},
   "outputs": [],
   "source": [
    "X = df.drop(columns=('HeartDisease'), axis=1)\n",
    "y = df['HeartDisease']"
   ]
  },
  {
   "cell_type": "code",
   "execution_count": 11,
   "id": "fbad4d0e-92f3-48e1-b0b3-a6034edfbeb9",
   "metadata": {},
   "outputs": [
    {
     "data": {
      "text/plain": [
       "((918, 11), (918,))"
      ]
     },
     "execution_count": 11,
     "metadata": {},
     "output_type": "execute_result"
    }
   ],
   "source": [
    "X.shape, y.shape"
   ]
  },
  {
   "cell_type": "code",
   "execution_count": 12,
   "id": "e1ddde73-0d7f-46ae-b934-17c930930be6",
   "metadata": {},
   "outputs": [],
   "source": [
    "from sklearn.preprocessing import LabelEncoder"
   ]
  },
  {
   "cell_type": "code",
   "execution_count": 13,
   "id": "b81d84cf-89a7-4f26-8e7c-98cb4e9b4b03",
   "metadata": {},
   "outputs": [],
   "source": [
    "X = X.apply(LabelEncoder().fit_transform)"
   ]
  },
  {
   "cell_type": "code",
   "execution_count": 14,
   "id": "458a8be6-63ad-4929-887b-eafef70a0fb0",
   "metadata": {},
   "outputs": [
    {
     "data": {
      "text/html": [
       "<div>\n",
       "<style scoped>\n",
       "    .dataframe tbody tr th:only-of-type {\n",
       "        vertical-align: middle;\n",
       "    }\n",
       "\n",
       "    .dataframe tbody tr th {\n",
       "        vertical-align: top;\n",
       "    }\n",
       "\n",
       "    .dataframe thead th {\n",
       "        text-align: right;\n",
       "    }\n",
       "</style>\n",
       "<table border=\"1\" class=\"dataframe\">\n",
       "  <thead>\n",
       "    <tr style=\"text-align: right;\">\n",
       "      <th></th>\n",
       "      <th>Age</th>\n",
       "      <th>Sex</th>\n",
       "      <th>ChestPainType</th>\n",
       "      <th>RestingBP</th>\n",
       "      <th>Cholesterol</th>\n",
       "      <th>FastingBS</th>\n",
       "      <th>RestingECG</th>\n",
       "      <th>MaxHR</th>\n",
       "      <th>ExerciseAngina</th>\n",
       "      <th>Oldpeak</th>\n",
       "      <th>ST_Slope</th>\n",
       "    </tr>\n",
       "  </thead>\n",
       "  <tbody>\n",
       "    <tr>\n",
       "      <th>0</th>\n",
       "      <td>12</td>\n",
       "      <td>1</td>\n",
       "      <td>1</td>\n",
       "      <td>41</td>\n",
       "      <td>147</td>\n",
       "      <td>0</td>\n",
       "      <td>1</td>\n",
       "      <td>98</td>\n",
       "      <td>0</td>\n",
       "      <td>10</td>\n",
       "      <td>2</td>\n",
       "    </tr>\n",
       "    <tr>\n",
       "      <th>1</th>\n",
       "      <td>21</td>\n",
       "      <td>0</td>\n",
       "      <td>2</td>\n",
       "      <td>55</td>\n",
       "      <td>40</td>\n",
       "      <td>0</td>\n",
       "      <td>1</td>\n",
       "      <td>82</td>\n",
       "      <td>0</td>\n",
       "      <td>20</td>\n",
       "      <td>1</td>\n",
       "    </tr>\n",
       "    <tr>\n",
       "      <th>2</th>\n",
       "      <td>9</td>\n",
       "      <td>1</td>\n",
       "      <td>1</td>\n",
       "      <td>31</td>\n",
       "      <td>141</td>\n",
       "      <td>0</td>\n",
       "      <td>2</td>\n",
       "      <td>25</td>\n",
       "      <td>0</td>\n",
       "      <td>10</td>\n",
       "      <td>2</td>\n",
       "    </tr>\n",
       "    <tr>\n",
       "      <th>3</th>\n",
       "      <td>20</td>\n",
       "      <td>0</td>\n",
       "      <td>0</td>\n",
       "      <td>39</td>\n",
       "      <td>72</td>\n",
       "      <td>0</td>\n",
       "      <td>1</td>\n",
       "      <td>34</td>\n",
       "      <td>1</td>\n",
       "      <td>25</td>\n",
       "      <td>1</td>\n",
       "    </tr>\n",
       "    <tr>\n",
       "      <th>4</th>\n",
       "      <td>26</td>\n",
       "      <td>1</td>\n",
       "      <td>2</td>\n",
       "      <td>49</td>\n",
       "      <td>53</td>\n",
       "      <td>0</td>\n",
       "      <td>1</td>\n",
       "      <td>48</td>\n",
       "      <td>0</td>\n",
       "      <td>10</td>\n",
       "      <td>2</td>\n",
       "    </tr>\n",
       "  </tbody>\n",
       "</table>\n",
       "</div>"
      ],
      "text/plain": [
       "   Age  Sex  ChestPainType  RestingBP  Cholesterol  FastingBS  RestingECG  \\\n",
       "0   12    1              1         41          147          0           1   \n",
       "1   21    0              2         55           40          0           1   \n",
       "2    9    1              1         31          141          0           2   \n",
       "3   20    0              0         39           72          0           1   \n",
       "4   26    1              2         49           53          0           1   \n",
       "\n",
       "   MaxHR  ExerciseAngina  Oldpeak  ST_Slope  \n",
       "0     98               0       10         2  \n",
       "1     82               0       20         1  \n",
       "2     25               0       10         2  \n",
       "3     34               1       25         1  \n",
       "4     48               0       10         2  "
      ]
     },
     "execution_count": 14,
     "metadata": {},
     "output_type": "execute_result"
    }
   ],
   "source": [
    "X.head()"
   ]
  },
  {
   "cell_type": "code",
   "execution_count": 15,
   "id": "0745a37b-1d93-42e4-8c84-42d0c2934742",
   "metadata": {},
   "outputs": [],
   "source": [
    "from sklearn.model_selection import train_test_split"
   ]
  },
  {
   "cell_type": "code",
   "execution_count": 16,
   "id": "92e4d2fa-25a5-4ca4-b81e-023ad23dcf0b",
   "metadata": {},
   "outputs": [],
   "source": [
    "X_train, X_test, y_train, y_test = train_test_split(X, y, test_size=0.2, random_state=42)"
   ]
  },
  {
   "cell_type": "code",
   "execution_count": 17,
   "id": "953a9359-840f-4e09-95c5-1bc605ae98fb",
   "metadata": {},
   "outputs": [
    {
     "data": {
      "text/plain": [
       "((734, 11), (184, 11))"
      ]
     },
     "execution_count": 17,
     "metadata": {},
     "output_type": "execute_result"
    }
   ],
   "source": [
    "X_train.shape, X_test.shape"
   ]
  },
  {
   "cell_type": "code",
   "execution_count": 18,
   "id": "1e74ac66-1faf-4e1a-8603-c442abb3d4de",
   "metadata": {},
   "outputs": [],
   "source": [
    "import numpy as np\n",
    "\n",
    "X_train = np.array(X_train)\n",
    "X_test = np.array(X_test)\n",
    "y_train = np.array(y_train)\n",
    "y_test = np.array(y_test)"
   ]
  },
  {
   "cell_type": "code",
   "execution_count": 19,
   "id": "9de6b7ce-e97c-4a0c-a8ea-4abd6685b563",
   "metadata": {},
   "outputs": [
    {
     "data": {
      "text/plain": [
       "array([ 14,   1,   2,  22,  98,   1,   1, 116,   0,  18,   0])"
      ]
     },
     "execution_count": 19,
     "metadata": {},
     "output_type": "execute_result"
    }
   ],
   "source": [
    "X_train[0]"
   ]
  },
  {
   "cell_type": "code",
   "execution_count": 20,
   "id": "d5e9d815-b156-46fa-be6d-adac98c4bfb1",
   "metadata": {},
   "outputs": [],
   "source": [
    "from sklearn.preprocessing import MinMaxScaler"
   ]
  },
  {
   "cell_type": "code",
   "execution_count": 21,
   "id": "63ee4289-1f8f-47aa-b7c2-d1411aa18a72",
   "metadata": {},
   "outputs": [],
   "source": [
    "scaler = MinMaxScaler()\n",
    "X_train = scaler.fit_transform(X_train)\n",
    "X_test = scaler.transform(X_test)"
   ]
  },
  {
   "cell_type": "code",
   "execution_count": 22,
   "id": "024ea88e-8166-4467-bfde-fa4798e0f86c",
   "metadata": {},
   "outputs": [
    {
     "data": {
      "text/plain": [
       "array([0.27083333, 1.        , 0.66666667, 0.33333333, 0.44343891,\n",
       "       1.        , 0.5       , 0.98305085, 0.        , 0.34615385,\n",
       "       0.        ])"
      ]
     },
     "execution_count": 22,
     "metadata": {},
     "output_type": "execute_result"
    }
   ],
   "source": [
    "X_train[0]"
   ]
  },
  {
   "cell_type": "code",
   "execution_count": 23,
   "id": "e04cc479-4c84-4f64-8ab6-e8d39ed72eb1",
   "metadata": {},
   "outputs": [
    {
     "data": {
      "text/plain": [
       "array([0.20833333, 1.        , 0.33333333, 0.33333333, 0.4479638 ,\n",
       "       0.        , 1.        , 0.61016949, 0.        , 0.57692308,\n",
       "       1.        ])"
      ]
     },
     "execution_count": 23,
     "metadata": {},
     "output_type": "execute_result"
    }
   ],
   "source": [
    "X_test[100]"
   ]
  },
  {
   "cell_type": "code",
   "execution_count": 25,
   "id": "97642ed1-3d18-405b-be4b-71a85b19d9df",
   "metadata": {},
   "outputs": [],
   "source": [
    "import tensorflow as tf\n",
    "from tensorflow import keras"
   ]
  },
  {
   "cell_type": "code",
   "execution_count": 33,
   "id": "97a1fe02-6661-4d44-ba81-844a105f42f5",
   "metadata": {},
   "outputs": [],
   "source": [
    "model = keras.Sequential()\n",
    "model.add(keras.layers.Input(shape=(11,)))\n",
    "model.add(keras.layers.Dense(128,activation='relu'))\n",
    "model.add(keras.layers.Dropout(0.2))\n",
    "model.add(keras.layers.Dense(128,activation='relu'))\n",
    "model.add(keras.layers.Dropout(0.5))\n",
    "model.add(keras.layers.Dense(128,activation='relu'))\n",
    "model.add(keras.layers.Dropout(0.3))\n",
    "model.add(keras.layers.Dense(128,activation='relu'))\n",
    "model.add(keras.layers.Dense(128,activation='relu'))\n",
    "model.add(keras.layers.Dense(128,activation='relu'))\n",
    "model.add(keras.layers.Dense(1,activation='sigmoid'))"
   ]
  },
  {
   "cell_type": "code",
   "execution_count": 34,
   "id": "2ded7d36-9436-487e-a7ef-8f341e1aaf57",
   "metadata": {},
   "outputs": [],
   "source": [
    "model.compile(optimizer=tf.optimizers.Adam(), loss= tf.keras.losses.binary_crossentropy,metrics=['accuracy'])"
   ]
  },
  {
   "cell_type": "code",
   "execution_count": 35,
   "id": "5a877119-5c1e-4cd3-8aa3-c3e997acca84",
   "metadata": {},
   "outputs": [
    {
     "name": "stdout",
     "output_type": "stream",
     "text": [
      "Model: \"sequential_2\"\n",
      "_________________________________________________________________\n",
      " Layer (type)                Output Shape              Param #   \n",
      "=================================================================\n",
      " dense_12 (Dense)            (None, 128)               1536      \n",
      "                                                                 \n",
      " dropout (Dropout)           (None, 128)               0         \n",
      "                                                                 \n",
      " dense_13 (Dense)            (None, 128)               16512     \n",
      "                                                                 \n",
      " dropout_1 (Dropout)         (None, 128)               0         \n",
      "                                                                 \n",
      " dense_14 (Dense)            (None, 128)               16512     \n",
      "                                                                 \n",
      " dropout_2 (Dropout)         (None, 128)               0         \n",
      "                                                                 \n",
      " dense_15 (Dense)            (None, 128)               16512     \n",
      "                                                                 \n",
      " dense_16 (Dense)            (None, 128)               16512     \n",
      "                                                                 \n",
      " dense_17 (Dense)            (None, 128)               16512     \n",
      "                                                                 \n",
      " dense_18 (Dense)            (None, 1)                 129       \n",
      "                                                                 \n",
      "=================================================================\n",
      "Total params: 84225 (329.00 KB)\n",
      "Trainable params: 84225 (329.00 KB)\n",
      "Non-trainable params: 0 (0.00 Byte)\n",
      "_________________________________________________________________\n"
     ]
    }
   ],
   "source": [
    "model.summary()"
   ]
  },
  {
   "cell_type": "code",
   "execution_count": 39,
   "id": "608abd4d-3c10-48c7-8efe-c1e8330a6db0",
   "metadata": {},
   "outputs": [
    {
     "name": "stdout",
     "output_type": "stream",
     "text": [
      "Epoch 1/100\n",
      "147/147 [==============================] - 0s 3ms/step - loss: 0.3046 - accuracy: 0.8747 - val_loss: 0.3756 - val_accuracy: 0.8804\n",
      "Epoch 2/100\n",
      "147/147 [==============================] - 0s 2ms/step - loss: 0.2816 - accuracy: 0.8760 - val_loss: 0.3574 - val_accuracy: 0.9076\n",
      "Epoch 3/100\n",
      "147/147 [==============================] - 0s 2ms/step - loss: 0.2998 - accuracy: 0.8719 - val_loss: 0.3118 - val_accuracy: 0.8913\n",
      "Epoch 4/100\n",
      "147/147 [==============================] - 0s 2ms/step - loss: 0.2799 - accuracy: 0.8869 - val_loss: 0.3208 - val_accuracy: 0.8913\n",
      "Epoch 5/100\n",
      "147/147 [==============================] - 0s 3ms/step - loss: 0.2718 - accuracy: 0.8760 - val_loss: 0.3065 - val_accuracy: 0.8913\n",
      "Epoch 6/100\n",
      "147/147 [==============================] - 0s 3ms/step - loss: 0.2975 - accuracy: 0.8828 - val_loss: 0.3358 - val_accuracy: 0.8913\n",
      "Epoch 7/100\n",
      "147/147 [==============================] - 0s 2ms/step - loss: 0.2966 - accuracy: 0.8828 - val_loss: 0.3634 - val_accuracy: 0.8804\n",
      "Epoch 8/100\n",
      "147/147 [==============================] - 0s 2ms/step - loss: 0.2916 - accuracy: 0.8801 - val_loss: 0.3500 - val_accuracy: 0.8587\n",
      "Epoch 9/100\n",
      "147/147 [==============================] - 0s 3ms/step - loss: 0.2673 - accuracy: 0.8747 - val_loss: 0.3191 - val_accuracy: 0.8913\n",
      "Epoch 10/100\n",
      "147/147 [==============================] - 0s 3ms/step - loss: 0.2798 - accuracy: 0.8719 - val_loss: 0.3477 - val_accuracy: 0.9076\n",
      "Epoch 11/100\n",
      "147/147 [==============================] - 0s 2ms/step - loss: 0.2796 - accuracy: 0.8856 - val_loss: 0.3856 - val_accuracy: 0.8696\n",
      "Epoch 12/100\n",
      "147/147 [==============================] - 0s 2ms/step - loss: 0.2768 - accuracy: 0.8801 - val_loss: 0.3040 - val_accuracy: 0.9076\n",
      "Epoch 13/100\n",
      "147/147 [==============================] - 0s 2ms/step - loss: 0.2740 - accuracy: 0.8774 - val_loss: 0.3824 - val_accuracy: 0.8804\n",
      "Epoch 14/100\n",
      "147/147 [==============================] - 0s 2ms/step - loss: 0.2662 - accuracy: 0.8719 - val_loss: 0.3784 - val_accuracy: 0.8913\n",
      "Epoch 15/100\n",
      "147/147 [==============================] - 0s 2ms/step - loss: 0.2749 - accuracy: 0.8910 - val_loss: 0.3002 - val_accuracy: 0.9185\n",
      "Epoch 16/100\n",
      "147/147 [==============================] - 0s 2ms/step - loss: 0.2487 - accuracy: 0.8883 - val_loss: 0.3360 - val_accuracy: 0.9076\n",
      "Epoch 17/100\n",
      "147/147 [==============================] - 0s 2ms/step - loss: 0.2535 - accuracy: 0.8774 - val_loss: 0.3654 - val_accuracy: 0.8587\n",
      "Epoch 18/100\n",
      "147/147 [==============================] - 0s 2ms/step - loss: 0.2639 - accuracy: 0.8787 - val_loss: 0.4100 - val_accuracy: 0.8587\n",
      "Epoch 19/100\n",
      "147/147 [==============================] - 0s 2ms/step - loss: 0.2491 - accuracy: 0.8883 - val_loss: 0.3741 - val_accuracy: 0.9022\n",
      "Epoch 20/100\n",
      "147/147 [==============================] - 0s 2ms/step - loss: 0.2894 - accuracy: 0.8801 - val_loss: 0.3513 - val_accuracy: 0.8587\n",
      "Epoch 21/100\n",
      "147/147 [==============================] - 0s 2ms/step - loss: 0.2473 - accuracy: 0.8951 - val_loss: 0.4042 - val_accuracy: 0.8859\n",
      "Epoch 22/100\n",
      "147/147 [==============================] - 0s 2ms/step - loss: 0.2664 - accuracy: 0.8924 - val_loss: 0.3584 - val_accuracy: 0.8859\n",
      "Epoch 23/100\n",
      "147/147 [==============================] - 0s 2ms/step - loss: 0.2502 - accuracy: 0.9060 - val_loss: 0.3203 - val_accuracy: 0.9022\n",
      "Epoch 24/100\n",
      "147/147 [==============================] - 0s 2ms/step - loss: 0.2562 - accuracy: 0.8828 - val_loss: 0.4152 - val_accuracy: 0.8750\n",
      "Epoch 25/100\n",
      "147/147 [==============================] - 0s 2ms/step - loss: 0.2395 - accuracy: 0.8910 - val_loss: 0.3794 - val_accuracy: 0.8859\n",
      "Epoch 26/100\n",
      "147/147 [==============================] - 0s 2ms/step - loss: 0.2214 - accuracy: 0.9019 - val_loss: 0.4684 - val_accuracy: 0.8641\n",
      "Epoch 27/100\n",
      "147/147 [==============================] - 0s 2ms/step - loss: 0.2339 - accuracy: 0.9019 - val_loss: 0.3733 - val_accuracy: 0.9022\n",
      "Epoch 28/100\n",
      "147/147 [==============================] - 0s 2ms/step - loss: 0.2315 - accuracy: 0.8992 - val_loss: 0.4817 - val_accuracy: 0.8696\n",
      "Epoch 29/100\n",
      "147/147 [==============================] - 0s 2ms/step - loss: 0.2284 - accuracy: 0.8883 - val_loss: 0.3820 - val_accuracy: 0.9022\n",
      "Epoch 30/100\n",
      "147/147 [==============================] - 0s 2ms/step - loss: 0.2368 - accuracy: 0.9074 - val_loss: 0.3228 - val_accuracy: 0.8913\n",
      "Epoch 31/100\n",
      "147/147 [==============================] - 0s 2ms/step - loss: 0.2505 - accuracy: 0.8924 - val_loss: 0.3283 - val_accuracy: 0.8859\n",
      "Epoch 32/100\n",
      "147/147 [==============================] - 0s 2ms/step - loss: 0.2418 - accuracy: 0.9087 - val_loss: 0.3516 - val_accuracy: 0.8859\n",
      "Epoch 33/100\n",
      "147/147 [==============================] - 0s 2ms/step - loss: 0.2406 - accuracy: 0.8896 - val_loss: 0.3496 - val_accuracy: 0.9022\n",
      "Epoch 34/100\n",
      "147/147 [==============================] - 0s 2ms/step - loss: 0.2267 - accuracy: 0.9060 - val_loss: 0.3946 - val_accuracy: 0.8804\n",
      "Epoch 35/100\n",
      "147/147 [==============================] - 0s 2ms/step - loss: 0.2156 - accuracy: 0.9114 - val_loss: 0.4753 - val_accuracy: 0.8696\n",
      "Epoch 36/100\n",
      "147/147 [==============================] - 0s 2ms/step - loss: 0.2382 - accuracy: 0.8978 - val_loss: 0.4697 - val_accuracy: 0.8696\n",
      "Epoch 37/100\n",
      "147/147 [==============================] - 0s 2ms/step - loss: 0.2275 - accuracy: 0.9005 - val_loss: 0.4027 - val_accuracy: 0.9076\n",
      "Epoch 38/100\n",
      "147/147 [==============================] - 0s 2ms/step - loss: 0.2242 - accuracy: 0.9074 - val_loss: 0.4883 - val_accuracy: 0.8424\n",
      "Epoch 39/100\n",
      "147/147 [==============================] - 0s 2ms/step - loss: 0.2098 - accuracy: 0.9046 - val_loss: 0.3650 - val_accuracy: 0.9130\n",
      "Epoch 40/100\n",
      "147/147 [==============================] - 0s 2ms/step - loss: 0.2297 - accuracy: 0.8965 - val_loss: 0.3901 - val_accuracy: 0.8804\n",
      "Epoch 41/100\n",
      "147/147 [==============================] - 0s 2ms/step - loss: 0.2007 - accuracy: 0.9087 - val_loss: 0.4379 - val_accuracy: 0.8750\n",
      "Epoch 42/100\n",
      "147/147 [==============================] - 0s 2ms/step - loss: 0.2013 - accuracy: 0.9142 - val_loss: 0.5001 - val_accuracy: 0.8750\n",
      "Epoch 43/100\n",
      "147/147 [==============================] - 0s 2ms/step - loss: 0.2081 - accuracy: 0.9169 - val_loss: 0.3749 - val_accuracy: 0.9022\n",
      "Epoch 44/100\n",
      "147/147 [==============================] - 0s 2ms/step - loss: 0.2041 - accuracy: 0.9074 - val_loss: 0.5213 - val_accuracy: 0.8967\n",
      "Epoch 45/100\n",
      "147/147 [==============================] - 0s 2ms/step - loss: 0.2100 - accuracy: 0.9033 - val_loss: 0.4970 - val_accuracy: 0.8696\n",
      "Epoch 46/100\n",
      "147/147 [==============================] - 0s 2ms/step - loss: 0.1999 - accuracy: 0.9196 - val_loss: 0.4980 - val_accuracy: 0.8859\n",
      "Epoch 47/100\n",
      "147/147 [==============================] - 0s 2ms/step - loss: 0.2031 - accuracy: 0.9046 - val_loss: 0.5008 - val_accuracy: 0.8696\n",
      "Epoch 48/100\n",
      "147/147 [==============================] - 0s 2ms/step - loss: 0.2027 - accuracy: 0.9223 - val_loss: 0.6036 - val_accuracy: 0.8478\n",
      "Epoch 49/100\n",
      "147/147 [==============================] - 0s 2ms/step - loss: 0.2093 - accuracy: 0.9114 - val_loss: 0.5928 - val_accuracy: 0.8804\n",
      "Epoch 50/100\n",
      "147/147 [==============================] - 0s 2ms/step - loss: 0.1996 - accuracy: 0.9142 - val_loss: 0.5714 - val_accuracy: 0.8424\n",
      "Epoch 51/100\n",
      "147/147 [==============================] - 0s 2ms/step - loss: 0.2163 - accuracy: 0.9019 - val_loss: 0.5777 - val_accuracy: 0.8696\n",
      "Epoch 52/100\n",
      "147/147 [==============================] - 0s 2ms/step - loss: 0.2069 - accuracy: 0.9128 - val_loss: 0.4903 - val_accuracy: 0.8967\n",
      "Epoch 53/100\n",
      "147/147 [==============================] - 0s 2ms/step - loss: 0.2424 - accuracy: 0.9169 - val_loss: 0.4864 - val_accuracy: 0.8913\n",
      "Epoch 54/100\n",
      "147/147 [==============================] - 0s 2ms/step - loss: 0.2075 - accuracy: 0.9074 - val_loss: 0.4025 - val_accuracy: 0.8533\n",
      "Epoch 55/100\n",
      "147/147 [==============================] - 0s 2ms/step - loss: 0.1890 - accuracy: 0.9142 - val_loss: 0.4296 - val_accuracy: 0.9022\n",
      "Epoch 56/100\n",
      "147/147 [==============================] - 0s 2ms/step - loss: 0.1982 - accuracy: 0.9074 - val_loss: 0.5975 - val_accuracy: 0.8696\n",
      "Epoch 57/100\n",
      "147/147 [==============================] - 0s 2ms/step - loss: 0.2012 - accuracy: 0.9128 - val_loss: 0.4225 - val_accuracy: 0.8696\n",
      "Epoch 58/100\n",
      "147/147 [==============================] - 0s 2ms/step - loss: 0.1778 - accuracy: 0.9183 - val_loss: 0.7671 - val_accuracy: 0.8913\n",
      "Epoch 59/100\n",
      "147/147 [==============================] - 0s 2ms/step - loss: 0.2165 - accuracy: 0.9183 - val_loss: 0.4749 - val_accuracy: 0.8804\n",
      "Epoch 60/100\n",
      "147/147 [==============================] - 0s 2ms/step - loss: 0.1969 - accuracy: 0.9223 - val_loss: 0.5238 - val_accuracy: 0.8913\n",
      "Epoch 61/100\n",
      "147/147 [==============================] - 0s 2ms/step - loss: 0.1835 - accuracy: 0.9292 - val_loss: 0.5122 - val_accuracy: 0.8587\n",
      "Epoch 62/100\n",
      "147/147 [==============================] - 0s 2ms/step - loss: 0.1914 - accuracy: 0.9223 - val_loss: 0.4856 - val_accuracy: 0.8859\n",
      "Epoch 63/100\n",
      "147/147 [==============================] - 0s 2ms/step - loss: 0.1830 - accuracy: 0.9114 - val_loss: 0.5347 - val_accuracy: 0.8750\n",
      "Epoch 64/100\n",
      "147/147 [==============================] - 0s 2ms/step - loss: 0.1841 - accuracy: 0.9142 - val_loss: 0.5934 - val_accuracy: 0.8750\n",
      "Epoch 65/100\n",
      "147/147 [==============================] - 0s 2ms/step - loss: 0.2141 - accuracy: 0.9128 - val_loss: 0.4361 - val_accuracy: 0.8696\n",
      "Epoch 66/100\n",
      "147/147 [==============================] - 0s 2ms/step - loss: 0.1932 - accuracy: 0.9101 - val_loss: 0.6840 - val_accuracy: 0.8804\n",
      "Epoch 67/100\n",
      "147/147 [==============================] - 0s 3ms/step - loss: 0.1843 - accuracy: 0.9251 - val_loss: 0.8620 - val_accuracy: 0.8641\n",
      "Epoch 68/100\n",
      "147/147 [==============================] - 0s 2ms/step - loss: 0.1863 - accuracy: 0.9237 - val_loss: 0.5051 - val_accuracy: 0.8641\n",
      "Epoch 69/100\n",
      "147/147 [==============================] - 0s 2ms/step - loss: 0.1602 - accuracy: 0.9346 - val_loss: 0.6932 - val_accuracy: 0.8696\n",
      "Epoch 70/100\n",
      "147/147 [==============================] - 0s 2ms/step - loss: 0.1701 - accuracy: 0.9292 - val_loss: 0.5820 - val_accuracy: 0.8587\n",
      "Epoch 71/100\n",
      "147/147 [==============================] - 0s 2ms/step - loss: 0.1889 - accuracy: 0.9128 - val_loss: 0.7421 - val_accuracy: 0.8533\n",
      "Epoch 72/100\n",
      "147/147 [==============================] - 0s 2ms/step - loss: 0.1890 - accuracy: 0.9292 - val_loss: 0.5609 - val_accuracy: 0.8696\n",
      "Epoch 73/100\n",
      "147/147 [==============================] - 0s 2ms/step - loss: 0.2032 - accuracy: 0.9210 - val_loss: 0.5004 - val_accuracy: 0.8696\n",
      "Epoch 74/100\n",
      "147/147 [==============================] - 0s 2ms/step - loss: 0.1886 - accuracy: 0.9223 - val_loss: 0.7011 - val_accuracy: 0.8696\n",
      "Epoch 75/100\n",
      "147/147 [==============================] - 0s 2ms/step - loss: 0.1770 - accuracy: 0.9237 - val_loss: 0.6452 - val_accuracy: 0.8696\n",
      "Epoch 76/100\n",
      "147/147 [==============================] - 0s 2ms/step - loss: 0.1663 - accuracy: 0.9251 - val_loss: 0.6368 - val_accuracy: 0.8750\n",
      "Epoch 77/100\n",
      "147/147 [==============================] - 0s 2ms/step - loss: 0.1464 - accuracy: 0.9319 - val_loss: 0.7601 - val_accuracy: 0.8641\n",
      "Epoch 78/100\n",
      "147/147 [==============================] - 0s 2ms/step - loss: 0.1639 - accuracy: 0.9305 - val_loss: 0.7532 - val_accuracy: 0.8587\n",
      "Epoch 79/100\n",
      "147/147 [==============================] - 0s 2ms/step - loss: 0.1791 - accuracy: 0.9319 - val_loss: 0.7620 - val_accuracy: 0.8478\n",
      "Epoch 80/100\n",
      "147/147 [==============================] - 0s 2ms/step - loss: 0.1721 - accuracy: 0.9346 - val_loss: 0.8300 - val_accuracy: 0.8587\n",
      "Epoch 81/100\n",
      "147/147 [==============================] - 0s 2ms/step - loss: 0.1814 - accuracy: 0.9223 - val_loss: 0.6369 - val_accuracy: 0.8533\n",
      "Epoch 82/100\n",
      "147/147 [==============================] - 0s 2ms/step - loss: 0.1671 - accuracy: 0.9210 - val_loss: 0.7797 - val_accuracy: 0.8641\n",
      "Epoch 83/100\n",
      "147/147 [==============================] - 0s 2ms/step - loss: 0.1925 - accuracy: 0.9210 - val_loss: 0.6172 - val_accuracy: 0.8750\n",
      "Epoch 84/100\n",
      "147/147 [==============================] - 0s 2ms/step - loss: 0.1765 - accuracy: 0.9319 - val_loss: 0.6654 - val_accuracy: 0.8750\n",
      "Epoch 85/100\n",
      "147/147 [==============================] - 0s 2ms/step - loss: 0.1697 - accuracy: 0.9319 - val_loss: 0.6191 - val_accuracy: 0.8696\n",
      "Epoch 86/100\n",
      "147/147 [==============================] - 0s 2ms/step - loss: 0.1761 - accuracy: 0.9223 - val_loss: 0.5691 - val_accuracy: 0.8750\n",
      "Epoch 87/100\n",
      "147/147 [==============================] - 0s 2ms/step - loss: 0.1730 - accuracy: 0.9332 - val_loss: 0.6351 - val_accuracy: 0.8696\n",
      "Epoch 88/100\n",
      "147/147 [==============================] - 0s 2ms/step - loss: 0.2106 - accuracy: 0.9210 - val_loss: 0.3980 - val_accuracy: 0.8913\n",
      "Epoch 89/100\n",
      "147/147 [==============================] - 0s 2ms/step - loss: 0.1653 - accuracy: 0.9319 - val_loss: 0.6188 - val_accuracy: 0.8859\n",
      "Epoch 90/100\n",
      "147/147 [==============================] - 0s 2ms/step - loss: 0.1733 - accuracy: 0.9292 - val_loss: 0.6698 - val_accuracy: 0.8641\n",
      "Epoch 91/100\n",
      "147/147 [==============================] - 0s 2ms/step - loss: 0.1722 - accuracy: 0.9237 - val_loss: 0.6757 - val_accuracy: 0.8587\n",
      "Epoch 92/100\n",
      "147/147 [==============================] - 0s 2ms/step - loss: 0.1942 - accuracy: 0.9074 - val_loss: 0.5987 - val_accuracy: 0.8587\n",
      "Epoch 93/100\n",
      "147/147 [==============================] - 0s 2ms/step - loss: 0.1710 - accuracy: 0.9278 - val_loss: 0.7944 - val_accuracy: 0.8696\n",
      "Epoch 94/100\n",
      "147/147 [==============================] - 0s 2ms/step - loss: 0.1741 - accuracy: 0.9305 - val_loss: 0.6310 - val_accuracy: 0.8587\n",
      "Epoch 95/100\n",
      "147/147 [==============================] - 0s 2ms/step - loss: 0.1609 - accuracy: 0.9264 - val_loss: 0.7827 - val_accuracy: 0.8533\n",
      "Epoch 96/100\n",
      "147/147 [==============================] - 0s 2ms/step - loss: 0.1441 - accuracy: 0.9428 - val_loss: 0.8391 - val_accuracy: 0.8859\n",
      "Epoch 97/100\n",
      "147/147 [==============================] - 0s 3ms/step - loss: 0.1618 - accuracy: 0.9264 - val_loss: 0.8416 - val_accuracy: 0.8750\n",
      "Epoch 98/100\n",
      "147/147 [==============================] - 0s 2ms/step - loss: 0.1732 - accuracy: 0.9278 - val_loss: 0.5787 - val_accuracy: 0.8696\n",
      "Epoch 99/100\n",
      "147/147 [==============================] - 0s 2ms/step - loss: 0.1675 - accuracy: 0.9360 - val_loss: 0.5913 - val_accuracy: 0.8804\n",
      "Epoch 100/100\n",
      "147/147 [==============================] - 0s 2ms/step - loss: 0.1608 - accuracy: 0.9278 - val_loss: 0.6899 - val_accuracy: 0.8913\n"
     ]
    }
   ],
   "source": [
    "hist = model.fit(X_train, y_train, epochs=100, batch_size=5, validation_data=(X_test,y_test))"
   ]
  },
  {
   "cell_type": "code",
   "execution_count": 40,
   "id": "aea1eeb1-c640-48cc-a80d-9a493d8693a4",
   "metadata": {},
   "outputs": [],
   "source": [
    "import matplotlib.pyplot as plt"
   ]
  },
  {
   "cell_type": "code",
   "execution_count": 41,
   "id": "747ec4ac-5dd7-44d2-89e2-65d33fb2fc1d",
   "metadata": {},
   "outputs": [
    {
     "data": {
      "text/plain": [
       "[<matplotlib.lines.Line2D at 0x7ff2804e1e50>]"
      ]
     },
     "execution_count": 41,
     "metadata": {},
     "output_type": "execute_result"
    },
    {
     "data": {
      "image/png": "[encoded data removed]",
      "text/plain": [
       "<Figure size 640x480 with 1 Axes>"
      ]
     },
     "metadata": {},
     "output_type": "display_data"
    }
   ],
   "source": [
    "plt.plot(hist.history['accuracy'], color='red')\n",
    "plt.plot(hist.history['val_accuracy'], color='blue')"
   ]
  },
  {
   "cell_type": "code",
   "execution_count": null,
   "id": "6a9b5b1b-65e8-440d-895d-ebabc0b6c247",
   "metadata": {},
   "outputs": [],
   "source": []
  }
 ],
 "metadata": {
  "kernelspec": {
   "display_name": "Python 3 (ipykernel)",
   "language": "python",
   "name": "python3"
  },
  "language_info": {
   "codemirror_mode": {
    "name": "ipython",
    "version": 3
   },
   "file_extension": ".py",
   "mimetype": "text/x-python",
   "name": "python",
   "nbconvert_exporter": "python",
   "pygments_lexer": "ipython3",
   "version": "3.11.0"
  }
 },
 "nbformat": 4,
 "nbformat_minor": 5
}
